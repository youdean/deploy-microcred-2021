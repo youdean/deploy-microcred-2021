{
 "cells": [
  {
   "cell_type": "code",
   "execution_count": 5,
   "metadata": {},
   "outputs": [],
   "source": [
    "import tkinter as tk\n",
    "from tkinter import filedialog\n",
    "from tkinter import *\n",
    "from PIL import ImageTk, Image\n",
    "\n",
    "import numpy\n",
    "\n",
    "from tensorflow.keras.models import load_model\n",
    "import warnings"
   ]
  },
  {
   "cell_type": "code",
   "execution_count": 6,
   "metadata": {},
   "outputs": [],
   "source": [
    "model = load_model('Trafic_signs_model.h5')\n",
    "warnings.filterwarnings(\"ignore\", category=DeprecationWarning)"
   ]
  },
  {
   "cell_type": "code",
   "execution_count": 3,
   "metadata": {},
   "outputs": [],
   "source": [
    "#dictionary to label all traffic signs class.\n",
    "classes = { 1:'Speed limit (20km/h)',\n",
    "            2:'Speed limit (30km/h)',      \n",
    "            3:'Speed limit (50km/h)',       \n",
    "            4:'Speed limit (60km/h)',      \n",
    "            5:'Speed limit (70km/h)',    \n",
    "            6:'Speed limit (80km/h)',      \n",
    "            7:'End of speed limit (80km/h)',     \n",
    "            8:'Speed limit (100km/h)',    \n",
    "            9:'Speed limit (120km/h)',     \n",
    "           10:'No passing',   \n",
    "           11:'No passing veh over 3.5 tons',     \n",
    "           12:'Right-of-way at intersection',     \n",
    "           13:'Priority road',    \n",
    "           14:'Yield',     \n",
    "           15:'Stop',       \n",
    "           16:'No vehicles',       \n",
    "           17:'Veh > 3.5 tons prohibited',       \n",
    "           18:'No entry',       \n",
    "           19:'General caution',     \n",
    "           20:'Dangerous curve left',      \n",
    "           21:'Dangerous curve right',   \n",
    "           22:'Double curve',      \n",
    "           23:'Bumpy road',     \n",
    "           24:'Slippery road',       \n",
    "           25:'Road narrows on the right',  \n",
    "           26:'Road work',    \n",
    "           27:'Traffic signals',      \n",
    "           28:'Pedestrians',     \n",
    "           29:'Children crossing',     \n",
    "           30:'Bicycles crossing',       \n",
    "           31:'Beware of ice/snow',\n",
    "           32:'Wild animals crossing',      \n",
    "           33:'End speed + passing limits',      \n",
    "           34:'Turn right ahead',     \n",
    "           35:'Turn left ahead',       \n",
    "           36:'Ahead only',      \n",
    "           37:'Go straight or right',      \n",
    "           38:'Go straight or left',      \n",
    "           39:'Keep right',     \n",
    "           40:'Keep left',      \n",
    "           41:'Roundabout mandatory',     \n",
    "           42:'End of no passing',      \n",
    "           43:'End no passing veh > 3.5 tons' }"
   ]
  },
  {
   "cell_type": "code",
   "execution_count": 4,
   "metadata": {},
   "outputs": [
    {
     "name": "stdout",
     "output_type": "stream",
     "text": [
      "(1, 30, 30, 3)\n"
     ]
    },
    {
     "name": "stderr",
     "output_type": "stream",
     "text": [
      "/Users/c96769/Library/Python/3.8/lib/python/site-packages/tensorflow/python/keras/engine/sequential.py:455: UserWarning: `model.predict_classes()` is deprecated and will be removed after 2021-01-01. Please use instead:* `np.argmax(model.predict(x), axis=-1)`,   if your model does multi-class classification   (e.g. if it uses a `softmax` last-layer activation).* `(model.predict(x) > 0.5).astype(\"int32\")`,   if your model does binary classification   (e.g. if it uses a `sigmoid` last-layer activation).\n",
      "  warnings.warn('`model.predict_classes()` is deprecated and '\n",
      "2021-12-15 20:04:36.035489: I tensorflow/compiler/mlir/mlir_graph_optimization_pass.cc:176] None of the MLIR Optimization Passes are enabled (registered 2)\n"
     ]
    },
    {
     "name": "stdout",
     "output_type": "stream",
     "text": [
      "Keep right\n"
     ]
    }
   ],
   "source": [
    "window=tk.Tk()\n",
    "window.geometry('600x500')\n",
    "window.title('Traffic sign classifier')\n",
    "\n",
    "window.configure(background='#1e3e64')\n",
    "\n",
    "heading = Label(window, text=\"Traffic Sign Classifier\",padx=220, font=('Verdana',20,'bold'))\n",
    "heading.configure(background='#143953',foreground='white')\n",
    "heading.pack()\n",
    "\n",
    "sign = Label(window)\n",
    "sign.configure(background='#1e3e64')\n",
    "\n",
    "value = Label(window,font=('Helvetica',15,'bold'))\n",
    "value.configure(background='#1e3e64')\n",
    "\n",
    "def classify(file_path):\n",
    "    global label_packed\n",
    "    image = Image.open(file_path)\n",
    "    image = image.resize((30,30))\n",
    "    image = numpy.expand_dims(image, axis=0)\n",
    "    image = numpy.array(image)\n",
    "    print(image.shape)\n",
    "    pred = model.predict_classes([image])[0]\n",
    "    sign = classes[pred+1]\n",
    "    print(sign)\n",
    "    value.configure(foreground='#ffffff', text=sign)\n",
    "\n",
    "def show_cb(file_path):\n",
    "    classify_b=Button(window,text=\"Classify Image\",command=lambda: classify(file_path),padx=20,pady=5)\n",
    "    classify_b.configure(background='#147a81', foreground='white',font=('arial',10,'bold'))\n",
    "    classify_b.place(relx=0.6,rely=0.80)\n",
    "    \n",
    "def uploader():\n",
    "    try:\n",
    "        file_path = filedialog.askopenfilename()\n",
    "        uploaded = Image.open(file_path)\n",
    "        uploaded.thumbnail(((window.winfo_width()/2.25),(window.winfo_height()/2.25)))\n",
    "        im = ImageTk.PhotoImage(uploaded)\n",
    "        \n",
    "        sign.configure(image=im)\n",
    "        sign.image=im\n",
    "        value.configure(text='')\n",
    "        show_cb(file_path)\n",
    "    except:\n",
    "        pass\n",
    "\n",
    "upload = Button(window,text=\"Upload an image\",command=uploader,padx=10,pady=5)\n",
    "upload.configure(background='#e8d08e', foreground='#143953',font=('arial',10,'bold'))\n",
    "upload.pack()\n",
    "upload.place(x=100, y=400)\n",
    "\n",
    "sign.pack()\n",
    "sign.place(x=230,y=100)\n",
    "value.pack()\n",
    "value.place(x=240,y=300)\n",
    "\n",
    "window.mainloop()"
   ]
  },
  {
   "cell_type": "code",
   "execution_count": null,
   "metadata": {},
   "outputs": [],
   "source": []
  }
 ],
 "metadata": {
  "kernelspec": {
   "display_name": "Python 3",
   "language": "python",
   "name": "python3"
  },
  "language_info": {
   "codemirror_mode": {
    "name": "ipython",
    "version": 3
   },
   "file_extension": ".py",
   "mimetype": "text/x-python",
   "name": "python",
   "nbconvert_exporter": "python",
   "pygments_lexer": "ipython3",
   "version": "3.8.9"
  }
 },
 "nbformat": 4,
 "nbformat_minor": 4
}
